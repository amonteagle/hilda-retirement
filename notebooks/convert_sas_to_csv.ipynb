{
 "cells": [
  {
   "cell_type": "markdown",
   "id": "10443568-efba-4a2e-8b30-602d1fa88381",
   "metadata": {},
   "source": [
    "# HILDA Data Pre-processing"
   ]
  },
  {
   "cell_type": "markdown",
   "id": "826db122-df8b-4bf3-b08e-c22a3537809b",
   "metadata": {},
   "source": [
    "### Convert SAS files to csv format"
   ]
  },
  {
   "cell_type": "code",
   "execution_count": 1,
   "id": "3fc16e27-ad67-4eab-8ad2-dec0a564489a",
   "metadata": {},
   "outputs": [],
   "source": [
    "import pandas as pd\n",
    "from pathlib import Path"
   ]
  },
  {
   "cell_type": "code",
   "execution_count": 2,
   "id": "cd2c2b4a-4a57-48d2-9cae-482b5d8c20aa",
   "metadata": {},
   "outputs": [],
   "source": [
    "def convert_sas_to_csv(input_folder, output_folder):\n",
    "    \"\"\"\n",
    "    Reads all .sas7bdat files from a folder and saves them in .csv format\n",
    "    \n",
    "    Parameters:\n",
    "    -----------\n",
    "    input_folder : str\n",
    "        Path to the folder containing .sas7bdat files\n",
    "    output_folder : str \n",
    "        Folder where the .csv files will be saved\n",
    "    \"\"\"\n",
    "    folder_path = Path(input_folder)\n",
    "    output_path = Path(output_folder)\n",
    "    \n",
    "    # Iterate over all .sas7bdat files\n",
    "    for sas_file in folder_path.glob(\"*.sas7bdat\"):\n",
    "        try:\n",
    "            print(f\"Reading: {sas_file.name}\")\n",
    "            df = pd.read_sas(sas_file, format='sas7bdat')\n",
    "            \n",
    "            csv_file = output_path / f\"{sas_file.stem}.csv\"\n",
    "            df.to_csv(csv_file, index=False)\n",
    "            print(f\"Saved: {csv_file.name}\")\n",
    "        \n",
    "        except Exception as e:\n",
    "            print(f\"Error processing {sas_file.name}: {e}\")"
   ]
  },
  {
   "cell_type": "code",
   "execution_count": null,
   "id": "13e42c7a-7851-4593-9897-bb40e21e6c7c",
   "metadata": {},
   "outputs": [],
   "source": [
    "sas_folder = \"../data/raw_sas/\"\n",
    "csv_folder = \"../data/raw_csv/\"\n",
    "convert_sas_to_csv(sas_folder, csv_folder)"
   ]
  },
  {
   "cell_type": "code",
   "execution_count": 4,
   "id": "10c323c4-7bc5-4152-a77a-49c1985fd206",
   "metadata": {},
   "outputs": [
    {
     "name": "stdout",
     "output_type": "stream",
     "text": [
      "Last updated: Sat Apr 12 2025\n",
      "\n",
      "Python implementation: CPython\n",
      "Python version       : 3.12.8\n",
      "IPython version      : 8.31.0\n",
      "\n",
      "pandas: 2.2.2\n",
      "\n"
     ]
    }
   ],
   "source": [
    "%load_ext watermark\n",
    "%watermark -n -u -v -iv"
   ]
  }
 ],
 "metadata": {
  "kernelspec": {
   "display_name": "Python 3 (ipykernel)",
   "language": "python",
   "name": "python3"
  },
  "language_info": {
   "codemirror_mode": {
    "name": "ipython",
    "version": 3
   },
   "file_extension": ".py",
   "mimetype": "text/x-python",
   "name": "python",
   "nbconvert_exporter": "python",
   "pygments_lexer": "ipython3",
   "version": "3.12.8"
  }
 },
 "nbformat": 4,
 "nbformat_minor": 5
}
